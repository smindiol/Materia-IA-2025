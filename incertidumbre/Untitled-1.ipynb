{
 "cells": [
  {
   "cell_type": "code",
   "execution_count": 109,
   "id": "e1dd6352",
   "metadata": {},
   "outputs": [],
   "source": [
    "# --------------------------\n",
    "# Estructuras base\n",
    "# --------------------------\n",
    "class Node:\n",
    "    def __init__(self, distribution, name):\n",
    "        self.name = name\n",
    "        self.distribution = distribution\n",
    "        self.parents = []\n",
    "        self.children = []\n",
    "\n",
    "    def set_parents(self, parents):\n",
    "        self.parents = parents\n",
    "        for p in parents:\n",
    "            p.children.append(self)\n",
    "\n",
    "class DiscreteDistribution:\n",
    "    def __init__(self, probabilities):\n",
    "        self.probabilities = probabilities\n",
    "    def probability(self, value):\n",
    "        return self.probabilities[value]\n",
    "\n",
    "class ConditionalProbabilityTable:\n",
    "    def __init__(self, table, parents):\n",
    "        self.table = table\n",
    "        self.parents = parents  # lista de nodos\n",
    "        self.data = {}\n",
    "        for row in table:\n",
    "            *parent_vals, value, prob = row\n",
    "            key = tuple(parent_vals)\n",
    "            if key not in self.data:\n",
    "                self.data[key] = {}\n",
    "            self.data[key][value] = prob\n",
    "\n",
    "    def probability(self, value, parent_values):\n",
    "        key = tuple(parent_values)\n",
    "        if key not in self.data or value not in self.data[key]:\n",
    "            raise KeyError(f\"Clave no encontrada en CPT: padres={key}, valor={value}\")\n",
    "        return self.data[key][value]\n",
    "\n",
    "\n",
    "# --------------------------\n",
    "# Red bayesiana\n",
    "# --------------------------\n",
    "from itertools import product\n",
    "\n",
    "class BayesianNetwork:\n",
    "    def __init__(self):\n",
    "        self.nodes = []\n",
    "        self.name_to_node = {}\n",
    "\n",
    "    def add_state(self, *nodes):\n",
    "        for node in nodes:\n",
    "            self.nodes.append(node)\n",
    "            self.name_to_node[node.name] = node\n",
    "\n",
    "    def add_edges(self, *edges):\n",
    "        for i in range(0, len(edges), 2):\n",
    "            parent, child = edges[i], edges[i+1]\n",
    "            self.name_to_node[child.name].set_parents(\n",
    "                self.name_to_node[child.name].parents + [self.name_to_node[parent.name]]\n",
    "            )\n",
    "\n",
    "    def bake(self):\n",
    "        pass\n",
    "\n",
    "    def predict_proba(self, evidence):\n",
    "        domains = {}\n",
    "\n",
    "        for node in self.nodes:\n",
    "            if isinstance(node.distribution, DiscreteDistribution):\n",
    "                domains[node.name] = list(node.distribution.probabilities.keys())\n",
    "            else:\n",
    "                sample_key = next(iter(node.distribution.data))\n",
    "                domains[node.name] = list(node.distribution.data[sample_key].keys())\n",
    "\n",
    "        results = []\n",
    "        total = 0\n",
    "        probs = {}\n",
    "\n",
    "        for values in product(*[domains[n.name] for n in self.nodes]):\n",
    "            assignment = dict(zip([n.name for n in self.nodes], values))\n",
    "            if not all(assignment.get(k) == v for k, v in evidence.items()):\n",
    "                continue\n",
    "\n",
    "            p = 1.0\n",
    "            for node in self.nodes:\n",
    "                val = assignment[node.name]\n",
    "                if isinstance(node.distribution, DiscreteDistribution):\n",
    "                    p *= node.distribution.probability(val)\n",
    "                else:\n",
    "                    parent_vals = [assignment[p.name] for p in node.parents]\n",
    "                    p *= node.distribution.probability(val, parent_vals)\n",
    "            probs[tuple(assignment[n.name] for n in self.nodes)] = p\n",
    "            total += p\n",
    "\n",
    "        for node in self.nodes:\n",
    "            if node.name in evidence:\n",
    "                results.append(evidence[node.name])\n",
    "            else:\n",
    "                dist = {}\n",
    "                for k, p in probs.items():\n",
    "                    val = k[[n.name for n in self.nodes].index(node.name)]\n",
    "                    dist[val] = dist.get(val, 0) + p\n",
    "                for val in dist:\n",
    "                    dist[val] /= total\n",
    "                results.append(DiscreteDistribution(dist))\n",
    "\n",
    "        return results\n",
    "\n",
    "    def probability(self, observation):\n",
    "        p = 1.0\n",
    "        for node, value in zip(self.nodes, observation):\n",
    "            if isinstance(node.distribution, DiscreteDistribution):\n",
    "                p *= node.distribution.probability(value)\n",
    "            else:\n",
    "                parent_vals = [\n",
    "                    observation[self.nodes.index(p)] for p in node.parents\n",
    "                ]\n",
    "                p *= node.distribution.probability(value, parent_vals)\n",
    "        return p\n"
   ]
  },
  {
   "cell_type": "code",
   "execution_count": 110,
   "id": "c5029d95",
   "metadata": {},
   "outputs": [],
   "source": [
    "# Definir nodos\n",
    "#from crear_red import *\n",
    "lluvia = Node(DiscreteDistribution({\n",
    "    \"ninguna\": 0.7,\n",
    "    \"suave\": 0.2,\n",
    "    \"fuerte\": 0.1\n",
    "}), name=\"lluvia\")"
   ]
  },
  {
   "cell_type": "code",
   "execution_count": 111,
   "id": "eae724dd",
   "metadata": {},
   "outputs": [],
   "source": [
    "mantenimiento = Node(ConditionalProbabilityTable([\n",
    "    [\"ninguna\",\"si\",0.4],\n",
    "    [\"ninguna\",\"no\",0.6],\n",
    "    [\"suave\",\"si\",0.7],\n",
    "    [\"suave\",\"no\",0.3],\n",
    "    [\"fuerte\",\"si\",0.9],\n",
    "    [\"fuerte\",\"no\",0.1],\n",
    "], [lluvia]), name=\"mantenimiento\")"
   ]
  },
  {
   "cell_type": "code",
   "execution_count": 112,
   "id": "033f882e",
   "metadata": {},
   "outputs": [],
   "source": [
    "bus = Node(ConditionalProbabilityTable([\n",
    "    [\"ninguna\",\"si\",\"a tiempo\", 0.8],\n",
    "    [\"ninguna\",\"si\",\"retrasada\", 0.2],\n",
    "    [\"ninguna\",\"no\",\"a tiempo\", 0.9],\n",
    "    [\"ninguna\",\"no\",\"retrasada\", 0.1],\n",
    "    [\"suave\",\"si\",\"a tiempo\", 0.6],\n",
    "    [\"suave\",\"si\",\"retrasada\", 0.4],\n",
    "    [\"suave\",\"no\",\"a tiempo\", 0.7],\n",
    "    [\"suave\",\"no\",\"retrasada\", 0.3],\n",
    "    [\"fuerte\",\"si\",\"a tiempo\", 0.3],\n",
    "    [\"fuerte\",\"si\",\"retrasada\", 0.7],\n",
    "    [\"fuerte\",\"no\",\"a tiempo\", 0.5],\n",
    "    [\"fuerte\",\"no\",\"retrasada\", 0.5]\n",
    "], [lluvia, mantenimiento]), name=\"bus\")"
   ]
  },
  {
   "cell_type": "code",
   "execution_count": 113,
   "id": "0994ab32",
   "metadata": {},
   "outputs": [],
   "source": [
    "cita = Node(ConditionalProbabilityTable([\n",
    "    [\"a tiempo\",\"atendida\", 0.95],\n",
    "    [\"a tiempo\",\"perdida\", 0.05],\n",
    "    [\"retrasada\",\"atendida\", 0.6],\n",
    "    [\"retrasada\",\"perdida\", 0.4]\n",
    "], [bus]), name=\"cita\")"
   ]
  },
  {
   "cell_type": "code",
   "execution_count": 114,
   "id": "6b64ab59",
   "metadata": {},
   "outputs": [],
   "source": [
    "# Crear la red\n",
    "modelo = BayesianNetwork()\n",
    "modelo.add_state(lluvia, mantenimiento, bus, cita)\n",
    "modelo.add_edges(lluvia, mantenimiento, lluvia, bus, mantenimiento, bus, bus, cita)\n",
    "modelo.bake()"
   ]
  },
  {
   "cell_type": "code",
   "execution_count": 115,
   "id": "971e4c0c",
   "metadata": {},
   "outputs": [
    {
     "name": "stdout",
     "output_type": "stream",
     "text": [
      "['lluvia']\n",
      "['lluvia', 'mantenimiento']\n",
      "['bus']\n"
     ]
    }
   ],
   "source": [
    "print([p.name for p in mantenimiento.parents])  \n",
    "print([p.name for p in bus.parents])  \n",
    "print([p.name for p in cita.parents]) "
   ]
  },
  {
   "cell_type": "code",
   "execution_count": 116,
   "id": "9d2f1aed",
   "metadata": {},
   "outputs": [
    {
     "name": "stdout",
     "output_type": "stream",
     "text": [
      "['bus']\n",
      "['cita']\n",
      "[]\n"
     ]
    }
   ],
   "source": [
    "print([p.name for p in mantenimiento.children]) \n",
    "print([p.name for p in bus.children])  \n",
    "print([p.name for p in cita.children])  "
   ]
  },
  {
   "cell_type": "code",
   "execution_count": 117,
   "id": "91ababb9",
   "metadata": {},
   "outputs": [
    {
     "name": "stdout",
     "output_type": "stream",
     "text": [
      "lluvia:\n",
      "   ninguna: 0.79\n",
      "   suave: 0.17\n",
      "   fuerte: 0.04\n",
      "mantenimiento:\n",
      "   si: 0.44\n",
      "   no: 0.56\n",
      "bus: a tiempo\n",
      "cita:\n",
      "   atendida: 0.95\n",
      "   perdida: 0.05\n",
      "\n",
      "Probabilidad de ['ninguna', 'no', 'a tiempo', 'atendida']:\n",
      "0.3591\n"
     ]
    }
   ],
   "source": [
    "# Inferencia con evidencia\n",
    "predicciones = modelo.predict_proba({\"bus\": \"a tiempo\"})\n",
    "\n",
    "for nodo, prediccion in zip(modelo.nodes, predicciones):\n",
    "    if isinstance(prediccion, str):\n",
    "        print(f\"{nodo.name}: {prediccion}\")\n",
    "    else:\n",
    "        print(f\"{nodo.name}:\")\n",
    "        for valor, probabilidad in prediccion.probabilities.items():\n",
    "            print(f\"   {valor}: {probabilidad:.2f}\")\n",
    "\n",
    "# Probabilidad de observación completa\n",
    "print(\"\\nProbabilidad de ['ninguna', 'no', 'a tiempo', 'atendida']:\")\n",
    "print(modelo.probability([\"ninguna\", \"no\", \"a tiempo\", \"atendida\"]))\n"
   ]
  },
  {
   "cell_type": "code",
   "execution_count": 119,
   "id": "cc8da10f",
   "metadata": {},
   "outputs": [],
   "source": [
    "# Nodos sin padres\n",
    "robo = Node(DiscreteDistribution({\n",
    "    'v': 0.001,\n",
    "    'f': 0.999\n",
    "}), name='Robo')\n",
    "\n",
    "temblor = Node(DiscreteDistribution({\n",
    "    'v': 0.001,\n",
    "    'f': 0.999\n",
    "}), name='Temblor')\n",
    "\n",
    "# Nodo Alarma condicionado por Robo y Temblor\n",
    "alarma = Node(ConditionalProbabilityTable([\n",
    "    ['v', 'v', 'v', 0.95],\n",
    "    ['v', 'v', 'f', 0.05],\n",
    "    ['v', 'f', 'v', 0.94],\n",
    "    ['v', 'f', 'f', 0.06],\n",
    "    ['f', 'v', 'v', 0.29],\n",
    "    ['f', 'v', 'f', 0.71],\n",
    "    ['f', 'f', 'v', 0.001],\n",
    "    ['f', 'f', 'f', 0.999],\n",
    "], [robo, temblor]), name='Alarma')\n",
    "\n",
    "# Nodo Jorge condicionado por Alarma\n",
    "jorge = Node(ConditionalProbabilityTable([\n",
    "    ['v', 'v', 0.90],\n",
    "    ['v', 'f', 0.10],\n",
    "    ['f', 'v', 0.05],\n",
    "    ['f', 'f', 0.95],\n",
    "], [alarma]), name='Jorge')\n",
    "\n",
    "# Nodo María condicionado por Alarma\n",
    "maria = Node(ConditionalProbabilityTable([\n",
    "    ['v', 'v', 0.70],\n",
    "    ['v', 'f', 0.30],\n",
    "    ['f', 'v', 0.01],\n",
    "    ['f', 'f', 0.99],\n",
    "], [alarma]), name='María')\n",
    "\n",
    "# Crear red\n",
    "red = BayesianNetwork()\n",
    "red.add_state(robo, temblor, alarma, jorge, maria)\n",
    "\n",
    "# Conectar bordes según el gráfico\n",
    "red.add_edges(robo, alarma,\n",
    "              temblor, alarma,\n",
    "              alarma, jorge,\n",
    "              alarma, maria)\n",
    "\n",
    "red.bake()\n"
   ]
  },
  {
   "cell_type": "code",
   "execution_count": null,
   "id": "aecaf27a",
   "metadata": {},
   "outputs": [
    {
     "name": "stdout",
     "output_type": "stream",
     "text": [
      "0.00062874063\n"
     ]
    }
   ],
   "source": [
    "print(red.probability(['f', 'f', 'v', 'v', 'v']))  # P(robo=f, temblor=f, alarma=v, jorge=v, maria=v)"
   ]
  },
  {
   "cell_type": "code",
   "execution_count": 121,
   "id": "bf11f7be",
   "metadata": {},
   "outputs": [
    {
     "name": "stdout",
     "output_type": "stream",
     "text": [
      "Robo → {'v': 0.016360574479229457, 'f': 0.9836394255207705}\n",
      "Temblor → {'v': 0.005724428689906382, 'f': 0.9942755713100936}\n",
      "Alarma → {'v': 0.03863579199206978, 'f': 0.9613642080079301}\n",
      "Jorge → v\n",
      "María → {'v': 0.03665869647452815, 'f': 0.9633413035254718}\n"
     ]
    }
   ],
   "source": [
    "res = red.predict_proba({'Jorge': 'v'})\n",
    "for nodo, pred in zip(red.nodes, res):\n",
    "    print(nodo.name, \"→\", pred if isinstance(pred, str) else pred.probabilities)\n"
   ]
  }
 ],
 "metadata": {
  "kernelspec": {
   "display_name": "IA",
   "language": "python",
   "name": "python3"
  },
  "language_info": {
   "codemirror_mode": {
    "name": "ipython",
    "version": 3
   },
   "file_extension": ".py",
   "mimetype": "text/x-python",
   "name": "python",
   "nbconvert_exporter": "python",
   "pygments_lexer": "ipython3",
   "version": "3.13.2"
  }
 },
 "nbformat": 4,
 "nbformat_minor": 5
}
